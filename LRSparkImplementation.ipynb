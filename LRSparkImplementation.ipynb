{
 "cells": [
  {
   "cell_type": "markdown",
   "metadata": {},
   "source": [
    "## Big Data -> Big Money?\n",
    "#### ~Regression with Spark"
   ]
  },
  {
   "cell_type": "markdown",
   "metadata": {},
   "source": [
    "The aim of this project is to explain the trends in stock prices for different stocks and predict the closing prices using historical data for different stocks. Here we build a Linear Regression model using Spark to predict the closing price of stocks using different variables created below as explanatory variables."
   ]
  },
  {
   "cell_type": "code",
   "execution_count": 1,
   "metadata": {},
   "outputs": [],
   "source": [
    "#Importing the required libraries\n",
    "from pyspark.sql import SparkSession\n",
    "from pyspark.ml import feature\n",
    "from pyspark.ml import classification\n",
    "from pyspark.sql import functions as fn\n",
    "from pyspark.ml import Pipeline\n",
    "from pyspark.ml import regression\n",
    "from pyspark.ml.evaluation import BinaryClassificationEvaluator, \\\n",
    "    MulticlassClassificationEvaluator, \\\n",
    "    RegressionEvaluator\n",
    "import matplotlib.pyplot as plt\n",
    "import pandas as pd\n",
    "from pyspark.sql import SparkSession\n",
    "from pyspark.sql.window import Window\n",
    "import pyspark.sql.functions as fn\n",
    "import pickle as pkl\n",
    "spark = SparkSession.builder.getOrCreate()\n",
    "sc = spark.sparkContext"
   ]
  },
  {
   "cell_type": "markdown",
   "metadata": {},
   "source": [
    "The data we use here is a [dataset](https://www.quandl.com/databases/SEP/data) obtained from Quandl about historical data of stocks and related industry data."
   ]
  },
  {
   "cell_type": "markdown",
   "metadata": {},
   "source": [
    "A lot of cleaning and transformation including droping, type conversion, bucketing and one-hot vectorization was required to make the data usable. These steps haven't been shown here to make the notebook concise."
   ]
  },
  {
   "cell_type": "markdown",
   "metadata": {},
   "source": [
    "Our data consisted stock data for 16 thousand stocks. We only work with stocks from the S&P 500 list. \n",
    "Since the size of this data set was in GBs it was difficult to use pandas.\n",
    "As pandas doesn't work well with data of this size. \n",
    "Hence our go to is Spark which uses distributed computing to solve this problem."
   ]
  },
  {
   "cell_type": "code",
   "execution_count": 2,
   "metadata": {},
   "outputs": [],
   "source": [
    "#Reading our cleaned and subsetted dataframe in Spark\n",
    "stock_df = spark.read.csv('snp500datafinal.csv', header=True, inferSchema=True)"
   ]
  },
  {
   "cell_type": "markdown",
   "metadata": {
    "slideshow": {
     "slide_type": "fragment"
    }
   },
   "source": [
    "First we build our model for a single stock and then build a function to work with any stock."
   ]
  },
  {
   "cell_type": "code",
   "execution_count": 3,
   "metadata": {},
   "outputs": [],
   "source": [
    "#Selecting a single stock(Amazon) to work with\n",
    "df = stock_df.where(fn.col('ticker')=='AMZN')"
   ]
  },
  {
   "cell_type": "markdown",
   "metadata": {},
   "source": [
    "Next we create different explanatory variables from existing ones which help us explain trends in closing price."
   ]
  },
  {
   "cell_type": "code",
   "execution_count": 4,
   "metadata": {},
   "outputs": [],
   "source": [
    "#Daily return: Calculated as ((Closing/Opening)-1)*100\n",
    "df = df.withColumn(\"daily_return\", (((fn.col(\"close\") / fn.col(\"open\"))-1)*100))\n",
    "\n",
    "#Lag 1: Closing Price from day before\n",
    "w1 = Window().rowsBetween(-1,-1)\n",
    "df = df.withColumn(\"l1\", fn.avg(fn.col('close')).over(w1))\n",
    "#Lag 2: Closing Price from two days before\n",
    "w2 = Window().rowsBetween(-2,-2)\n",
    "df = df.withColumn(\"l2\", fn.avg(fn.col('close')).over(w2))\n",
    "#Lag 5: Closing Price from five days before\n",
    "w5 = Window().rowsBetween(-5,-5)\n",
    "df = df.withColumn(\"l5\", fn.avg(fn.col('close')).over(w5))\n",
    "\n",
    "#3 day Moving Average: Average closing price over past three days \n",
    "w3 = Window().rowsBetween(-3,-1)\n",
    "df = df.withColumn(\"3daymav\", fn.avg(fn.col('l1')).over(w3))\n",
    "#7 day Moving Average: Average closing price over past seven days\n",
    "w7 = Window().rowsBetween(-7,-1)\n",
    "df = df.withColumn(\"7daymav\", fn.avg(fn.col('l1')).over(w7))\n",
    "\n",
    "#Volume lag: Volume from day before \n",
    "wv = Window().rowsBetween(-1,-1)\n",
    "df = df.withColumn(\"volume1\", fn.avg(fn.col('volume')).over(wv))\n",
    "\n",
    "#Momentum: Calculated as (Lag1-Lag5)/4\n",
    "df = df.withColumn(\"momentum\",(fn.col('l1')-fn.col('l5'))/4)\n",
    "\n",
    "#rate of change: Calculated as Lag1/Lag5\n",
    "df = df.withColumn(\"roc\",fn.col('l1')/fn.col('l5'))"
   ]
  },
  {
   "cell_type": "code",
   "execution_count": 5,
   "metadata": {},
   "outputs": [
    {
     "name": "stdout",
     "output_type": "stream",
     "text": [
      "+------+----------+------------------+------+-------+--------------------+------------------+------------------+---------+------+\n",
      "|ticker|      date|           7daymav|    l1|     l2|            momentum|               roc|           3daymav|  volume1| close|\n",
      "+------+----------+------------------+------+-------+--------------------+------------------+------------------+---------+------+\n",
      "|  AMZN|09-01-2013|         260.84975|266.38|268.459|  2.2674999999999983|1.0352493101706113| 262.0296666666666|3010700.0|266.35|\n",
      "|  AMZN|10-01-2013|          261.9558|266.35| 266.38|  1.9675000000000011| 1.030447229959765|264.66299999999995|2265600.0|265.34|\n",
      "|  AMZN|11-01-2013|262.68816666666663|265.34| 266.35|  1.5474999999999994|1.0238857804360408|           267.063|2863400.0|267.94|\n",
      "|  AMZN|14-01-2013|263.06699999999995|267.94| 265.34|-0.12975000000000136|0.9980667438975784| 266.0233333333333|2413300.0|272.73|\n",
      "|  AMZN|15-01-2013| 264.5855714285714|272.73| 267.94|  1.5875000000000057|1.0238381259854343|266.54333333333335|4275000.0| 271.9|\n",
      "+------+----------+------------------+------+-------+--------------------+------------------+------------------+---------+------+\n",
      "only showing top 5 rows\n",
      "\n"
     ]
    }
   ],
   "source": [
    "#Due to moving average calculations inital rows will have null values, hence we drop these rows first\n",
    "df1 = df.limit(5)     \n",
    "df = df.subtract(df1)\n",
    "#Let's take a look at our final data\n",
    "df.select('ticker','date','7daymav','l1', 'l2', 'momentum','roc','3daymav','volume1','close').show(5)"
   ]
  },
  {
   "cell_type": "markdown",
   "metadata": {},
   "source": [
    "Train-test split: We now create a Train-test split for cross-validation purposes. However, rather than shuffling the data randomly for the split, since we are dealing with time series data we make this split mainting the temporal aspect of the data and slicing using time as follows."
   ]
  },
  {
   "cell_type": "code",
   "execution_count": 6,
   "metadata": {},
   "outputs": [],
   "source": [
    "#We create a new column called 'id' to split our data to maintain the temporal aspect of our data\n",
    "#We use a 80-20 training-testing split\n",
    "df = df.withColumn(\"id\",fn.monotonically_increasing_id())\n",
    "length = df.count()\n",
    "itrain = int(0.8*length) \n",
    "#splitting using 'id' variable\n",
    "train = df.where(fn.col('id')<itrain) \n",
    "valid = df.where(fn.col('id')>=itrain)"
   ]
  },
  {
   "cell_type": "markdown",
   "metadata": {},
   "source": [
    "Next we build a Linear Regression pipeline as follows and fit it on our training data."
   ]
  },
  {
   "cell_type": "code",
   "execution_count": 7,
   "metadata": {},
   "outputs": [],
   "source": [
    "from pyspark.ml import regression\n",
    "lr = Pipeline(stages = [\n",
    "    feature.VectorAssembler(inputCols=['volume1','7daymav','l1','l2','momentum','roc','3daymav'],outputCol='features'),\n",
    "    regression.LinearRegression(featuresCol='features', labelCol='close')\n",
    "]).fit(train)"
   ]
  },
  {
   "cell_type": "markdown",
   "metadata": {},
   "source": [
    "Let's analyze our regression model by looking at the intercepts, p-values and r2."
   ]
  },
  {
   "cell_type": "code",
   "execution_count": 8,
   "metadata": {},
   "outputs": [
    {
     "name": "stdout",
     "output_type": "stream",
     "text": [
      "   variables  coefficients   pValues\n",
      "0    volume1 -1.896874e-07  0.120924\n",
      "1    7daymav -9.168780e-05  0.998641\n",
      "2         l1  1.056035e+00  0.000000\n",
      "3         l2 -4.275298e-02  0.425828\n",
      "4   momentum -8.167050e-02  0.709721\n",
      "5        roc -1.005019e+01  0.610148\n",
      "6    3daymav -1.274077e-02  0.843323\n",
      "7  intercept  1.117998e+01  0.572210\n",
      "r2: 0.998600\n"
     ]
    }
   ],
   "source": [
    "trainingSummary = lr.stages[-1].summary\n",
    "coefficients = list(lr.stages[-1].coefficients) #List of coefficients\n",
    "coefficients.append(lr.stages[-1].intercept)\n",
    "pValues = list(trainingSummary.pValues) #List of p-values\n",
    "variables = list(lr.stages[0].getInputCols()) #List of explanatory variables\n",
    "variables.append('intercept')\n",
    "summary = pd.DataFrame({'variables':variables,'coefficients':coefficients,'pValues':pValues})\n",
    "print(summary)\n",
    "print(\"r2: %f\" % trainingSummary.r2)"
   ]
  },
  {
   "cell_type": "markdown",
   "metadata": {},
   "source": [
    "We use RMSE as our validation metrics to measure performance."
   ]
  },
  {
   "cell_type": "code",
   "execution_count": 9,
   "metadata": {},
   "outputs": [],
   "source": [
    "rmse = fn.sqrt(fn.mean((fn.col('close') - fn.col('prediction'))**2)).alias('rmse')"
   ]
  },
  {
   "cell_type": "code",
   "execution_count": 10,
   "metadata": {},
   "outputs": [
    {
     "name": "stdout",
     "output_type": "stream",
     "text": [
      "+-----------------+\n",
      "|             rmse|\n",
      "+-----------------+\n",
      "|8.998881060258977|\n",
      "+-----------------+\n",
      "\n"
     ]
    }
   ],
   "source": [
    "#RMSE on train\n",
    "lr.transform(train).select(rmse).show()"
   ]
  },
  {
   "cell_type": "code",
   "execution_count": 11,
   "metadata": {},
   "outputs": [],
   "source": [
    "#Getting predictions and targets \n",
    "pred = lr.transform(train).select('prediction').collect()\n",
    "label = lr.transform(train).select('close').collect()"
   ]
  },
  {
   "cell_type": "markdown",
   "metadata": {},
   "source": [
    "Let's look at how our model performs visually on the training data"
   ]
  },
  {
   "cell_type": "code",
   "execution_count": 12,
   "metadata": {},
   "outputs": [
    {
     "data": {
      "image/png": "[encoded data removed]",
      "text/plain": [
       "<Figure size 432x288 with 1 Axes>"
      ]
     },
     "metadata": {
      "needs_background": "light"
     },
     "output_type": "display_data"
    }
   ],
   "source": [
    "plt.plot(label,'-b',label='Test')\n",
    "plt.plot(pred,'-r',label='Prediction')\n",
    "plt.xlabel('Time')\n",
    "plt.ylabel('Stock Price')\n",
    "plt.title('On training data')\n",
    "plt.show()"
   ]
  },
  {
   "cell_type": "markdown",
   "metadata": {},
   "source": [
    "Testing performance:"
   ]
  },
  {
   "cell_type": "code",
   "execution_count": 13,
   "metadata": {},
   "outputs": [
    {
     "name": "stdout",
     "output_type": "stream",
     "text": [
      "+------------------+\n",
      "|              rmse|\n",
      "+------------------+\n",
      "|34.551835140591464|\n",
      "+------------------+\n",
      "\n"
     ]
    }
   ],
   "source": [
    "#RMSE on testing data\n",
    "r = lr.transform(valid).select(rmse).show()"
   ]
  },
  {
   "cell_type": "code",
   "execution_count": 14,
   "metadata": {},
   "outputs": [],
   "source": [
    "pred = lr.transform(valid).select('prediction').collect()\n",
    "label = lr.transform(valid).select('close').collect()"
   ]
  },
  {
   "cell_type": "code",
   "execution_count": 15,
   "metadata": {},
   "outputs": [
    {
     "data": {
      "image/png": "[encoded data removed]",
      "text/plain": [
       "<Figure size 432x288 with 1 Axes>"
      ]
     },
     "metadata": {
      "needs_background": "light"
     },
     "output_type": "display_data"
    }
   ],
   "source": [
    "plt.plot(label,'-b',label='Test')\n",
    "plt.plot(pred,'-r',label='Prediction')\n",
    "plt.legend()\n",
    "plt.xlabel('Time')\n",
    "plt.ylabel('Stock Price')\n",
    "plt.title('On testing data')\n",
    "plt.show()"
   ]
  },
  {
   "cell_type": "markdown",
   "metadata": {},
   "source": [
    "We barely notice the difference between actual values and predictions, this visualization can be misleading as one of our variables is the closing price from day before which sets a good level for predictions and makes them closer to the actual value."
   ]
  },
  {
   "cell_type": "markdown",
   "metadata": {},
   "source": [
    "Finally we create functions to do the above tasks for different stocks."
   ]
  },
  {
   "cell_type": "code",
   "execution_count": 16,
   "metadata": {},
   "outputs": [],
   "source": [
    "def make_variables(df):\n",
    "    df = df.withColumn(\"daily_return\", (((fn.col(\"close\") / fn.col(\"open\"))-1)*100))\n",
    "    w2 = Window().rowsBetween(-1,-1)\n",
    "    df = df.withColumn(\"l1\", fn.avg(fn.col('close')).over(w2))\n",
    "    w3 = Window().rowsBetween(-3,-1)\n",
    "    df = df.withColumn(\"3daymav\", fn.avg(fn.col('l1')).over(w3))\n",
    "    w4 = Window().rowsBetween(-7,-1)\n",
    "    df = df.withColumn(\"7daymav\", fn.avg(fn.col('l1')).over(w4))\n",
    "    w5 = Window().rowsBetween(-2,-2)\n",
    "    df = df.withColumn(\"l2\", fn.avg(fn.col('close')).over(w5))\n",
    "    w6 = Window().rowsBetween(-5,-5)\n",
    "    df = df.withColumn(\"l5\", fn.avg(fn.col('close')).over(w6))\n",
    "    w7 = Window().rowsBetween(-1,-1)\n",
    "    df = df.withColumn(\"volume1\", fn.avg(fn.col('volume')).over(w7))\n",
    "    df = df.withColumn(\"momentum\",(fn.col('l1')-fn.col('l5'))/4)\n",
    "    df = df.withColumn(\"roc\",fn.col('l1')/fn.col('l5'))\n",
    "    return df\n",
    "    \n",
    "#This function fits the data to the LR pipeline and returns predictions on testing data\n",
    "def make_model(df,model_name,lr_pipeline):\n",
    "  try:\n",
    "    df1 = df.limit(5)     \n",
    "    df = df.subtract(df1)\n",
    "    df = df.withColumn(\"id\",fn.monotonically_increasing_id())\n",
    "    size = df.count()\n",
    "    itrain = int(0.8*size)\n",
    "    train = df.where(fn.col('id')<itrain)\n",
    "    valid = df.where(fn.col('id')>=itrain)\n",
    "    lr = lr_pipeline.fit(train)\n",
    "    rmse = fn.sqrt(fn.mean((fn.col('close') - fn.col('prediction'))**2)).alias('rmse')\n",
    "    rrmse = lr.transform(valid).select(rmse).collect()[0][0]\n",
    "    results.append({\"ticker\":model_name,\"rmse\":rrmse})\n",
    "    pred = lr.transform(valid).select('prediction').collect()\n",
    "    label = lr.transform(valid).select('close').collect()\n",
    "    return pred\n",
    "  except IndexError:\n",
    "    failed.append(model_name)\n",
    "  except ValueError:\n",
    "    failed.append(model_name)"
   ]
  },
  {
   "cell_type": "code",
   "execution_count": 17,
   "metadata": {},
   "outputs": [],
   "source": [
    "#Regression pipeline\n",
    "lr_pipeline = Pipeline(stages = [\n",
    "    feature.VectorAssembler(inputCols=['volume1','7daymav','l1','l2','momentum','roc','3daymav'],outputCol='features'),\n",
    "    regression.LinearRegression(featuresCol='features', labelCol='close')\n",
    "])\n",
    "#List to store results\n",
    "results_pred = []\n",
    "results = []"
   ]
  },
  {
   "cell_type": "code",
   "execution_count": 18,
   "metadata": {},
   "outputs": [
    {
     "name": "stdout",
     "output_type": "stream",
     "text": [
      "1 AMZN\n",
      "2 AAPL\n",
      "3 EXPE\n",
      "4 CVS\n",
      "5 BAC\n",
      "6 GOOGL\n"
     ]
    }
   ],
   "source": [
    "#Here we use the above functions to create models of multiple stocks \n",
    "for val,x in enumerate(['AMZN','AAPL','EXPE','CVS','BAC','GOOGL']):\n",
    "  df = stock_df.where(fn.col('ticker')==x)\n",
    "  print(val+1,x)\n",
    "  df = make_variables(df)\n",
    "  pred = make_model(df,x,lr_pipeline)\n",
    "  results_pred.append({\"ticker\":x,\"predictions\":pred})"
   ]
  },
  {
   "cell_type": "markdown",
   "metadata": {},
   "source": [
    "Let's look at how regression performs on these stocks."
   ]
  },
  {
   "cell_type": "code",
   "execution_count": 19,
   "metadata": {},
   "outputs": [
    {
     "data": {
      "text/plain": [
       "[{'ticker': 'AMZN', 'rmse': 34.551835140591464},\n",
       " {'ticker': 'AAPL', 'rmse': 3.1902880796726913},\n",
       " {'ticker': 'EXPE', 'rmse': 2.649589734796542},\n",
       " {'ticker': 'CVS', 'rmse': 1.3657166225107158},\n",
       " {'ticker': 'BAC', 'rmse': 0.4369531000072836},\n",
       " {'ticker': 'GOOGL', 'rmse': 18.33497694716903}]"
      ]
     },
     "execution_count": 19,
     "metadata": {},
     "output_type": "execute_result"
    }
   ],
   "source": [
    "results"
   ]
  },
  {
   "cell_type": "markdown",
   "metadata": {},
   "source": [
    "Thus as a conclusion we see simple linear regression has varying results on stocks with RMSE on testing data being less for certain stocks and higher for others. The RMSE can also be given context by looking at the closing prices for different stocks. For example, Amazon has higher stock price(~2k USD) in comparison to Bank of America (BAC)(~50 USD) which explains the relatively higher RMSE for the former."
   ]
  }
 ],
 "metadata": {
  "kernelspec": {
   "display_name": "Python 3",
   "language": "python",
   "name": "python3"
  },
  "language_info": {
   "codemirror_mode": {
    "name": "ipython",
    "version": 3
   },
   "file_extension": ".py",
   "mimetype": "text/x-python",
   "name": "python",
   "nbconvert_exporter": "python",
   "pygments_lexer": "ipython3",
   "version": "3.6.7"
  }
 },
 "nbformat": 4,
 "nbformat_minor": 2
}
