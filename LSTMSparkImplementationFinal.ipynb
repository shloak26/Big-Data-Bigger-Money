{
 "cells": [
  {
   "cell_type": "markdown",
   "metadata": {
    "colab_type": "text",
    "id": "_OQ0hHC9oxQa"
   },
   "source": [
    "# Big Data -> Big Money?\n",
    "~LSTM implementation"
   ]
  },
  {
   "cell_type": "markdown",
   "metadata": {
    "colab_type": "text",
    "id": "_-66H2BwpEv0"
   },
   "source": [
    "The aim of this project is to explain the trends in stock prices for different stocks and predict the closing prices using historical data for different stocks and using these predictions to recommend stocks. Here we build a LSTM model using Keras to predict the closing price of stocks as an alternative approach to regression explored earlier."
   ]
  },
  {
   "cell_type": "code",
   "execution_count": 1,
   "metadata": {
    "colab": {
     "base_uri": "https://localhost:8080/",
     "height": 34
    },
    "colab_type": "code",
    "id": "wo4tq3HsQKag",
    "outputId": "15756b3e-8a25-49cc-c39e-7603bed1cd67"
   },
   "outputs": [
    {
     "name": "stderr",
     "output_type": "stream",
     "text": [
      "Using TensorFlow backend.\n"
     ]
    }
   ],
   "source": [
    "#importing required libraries\n",
    "import pandas as pd\n",
    "import numpy as np\n",
    "import matplotlib.pyplot as plt\n",
    "import pickle as pkl\n",
    "import warnings\n",
    "warnings.filterwarnings('ignore')\n",
    "from sklearn.preprocessing import MinMaxScaler\n",
    "from keras.models import Sequential,load_model\n",
    "from keras.layers import Dense, Dropout, LSTM\n",
    "from pyspark.sql import SparkSession\n",
    "from pyspark.ml import feature\n",
    "from pyspark.ml import classification\n",
    "from pyspark.sql import functions as fn\n",
    "from pyspark.ml import Pipeline\n",
    "from pyspark.ml import regression\n",
    "from pyspark.ml.evaluation import BinaryClassificationEvaluator, \\\n",
    "    MulticlassClassificationEvaluator, \\\n",
    "    RegressionEvaluator\n",
    "from pyspark.sql import SparkSession\n",
    "from pyspark.sql.window import Window\n",
    "import pyspark.sql.functions as fn\n",
    "from datetime import datetime, timedelta\n",
    "spark = SparkSession.builder.getOrCreate()\n",
    "sc = spark.sparkContext"
   ]
  },
  {
   "cell_type": "code",
   "execution_count": 2,
   "metadata": {
    "colab": {},
    "colab_type": "code",
    "id": "7Ym5o1ZPQKak"
   },
   "outputs": [],
   "source": [
    "#Reading our cleaned and subsetted data in Spark as follows\n",
    "stock_df = spark.read.csv('snp500datafinal.csv', header=True, inferSchema=True)\n",
    "#Reading data for the S&P 500 list\n",
    "snp=pd.read_csv('constituents_csv.csv')\n",
    "snpticks=snp['Symbol'].values.tolist()"
   ]
  },
  {
   "cell_type": "markdown",
   "metadata": {
    "colab_type": "text",
    "id": "ZGholne71yOL"
   },
   "source": [
    "First we build our model for a single stock and then build a function to work with any stock. Since we use a complex neural network like LSTM as our model to balance the complexity we only use historical data of closing price as our explanatory variable to predict future trends in closing price."
   ]
  },
  {
   "cell_type": "code",
   "execution_count": 3,
   "metadata": {
    "colab": {},
    "colab_type": "code",
    "id": "fC82i8wm0qne"
   },
   "outputs": [],
   "source": [
    "df = stock_df.where(fn.col('ticker')=='AMZN')\n",
    "#Selecting closing price and date\n",
    "df = df.select('close','date')"
   ]
  },
  {
   "cell_type": "code",
   "execution_count": 4,
   "metadata": {
    "colab": {
     "base_uri": "https://localhost:8080/",
     "height": 286
    },
    "colab_type": "code",
    "id": "q2eQY-FRVP-B",
    "outputId": "f3d51f11-a10b-463f-ba73-3b3dea86a137"
   },
   "outputs": [
    {
     "name": "stdout",
     "output_type": "stream",
     "text": [
      "+-------+----------+---+\n",
      "|  close|      date| id|\n",
      "+-------+----------+---+\n",
      "| 257.31|02-01-2013|  0|\n",
      "| 258.48|03-01-2013|  1|\n",
      "| 259.15|04-01-2013|  2|\n",
      "|268.459|07-01-2013|  3|\n",
      "| 266.38|08-01-2013|  4|\n",
      "| 266.35|09-01-2013|  5|\n",
      "| 265.34|10-01-2013|  6|\n",
      "| 267.94|11-01-2013|  7|\n",
      "| 272.73|14-01-2013|  8|\n",
      "|  271.9|15-01-2013|  9|\n",
      "+-------+----------+---+\n",
      "only showing top 10 rows\n",
      "\n"
     ]
    }
   ],
   "source": [
    "#We create a new column called 'id' to split our data while maintaining the temporal aspect of our data\n",
    "df = df.withColumn(\"id\",fn.monotonically_increasing_id())\n",
    "\n",
    "#Let's look at our data\n",
    "df.show(10)"
   ]
  },
  {
   "cell_type": "markdown",
   "metadata": {
    "colab_type": "text",
    "id": "os6QvR_YswvL"
   },
   "source": [
    "Train-test split: We now create a Train-test split for cross-validation purposes. However, rather than shuffling the data randomly for the split, since we are dealing with time series data we make this split mainting the temporal aspect of the data and slicing using time as follows."
   ]
  },
  {
   "cell_type": "code",
   "execution_count": 5,
   "metadata": {
    "colab": {
     "base_uri": "https://localhost:8080/",
     "height": 1328
    },
    "colab_type": "code",
    "id": "Q1ZyAaMLcisz",
    "outputId": "4f4e39b4-451c-48bb-9c37-821ff6901100"
   },
   "outputs": [],
   "source": [
    "#We use a 80-20 training-testing split\n",
    "length = df.count()\n",
    "itrain = int(0.8*length)\n",
    "#Train and test values\n",
    "train = df.where(fn.col('id')<itrain)\n",
    "valid = df.where(fn.col('id')>=itrain)\n",
    "#List of train and test values\n",
    "train = train.select('close').collect()\n",
    "train = [float(row.close) for row in train]\n",
    "valid = valid.select('close').collect()\n",
    "valid = [float(row.close) for row in valid]"
   ]
  },
  {
   "cell_type": "markdown",
   "metadata": {},
   "source": [
    "For further preperation we scale our data using the MinMax Scaler for faster convergence. "
   ]
  },
  {
   "cell_type": "code",
   "execution_count": 6,
   "metadata": {
    "colab": {},
    "colab_type": "code",
    "id": "e-WW5ZVGdD75"
   },
   "outputs": [],
   "source": [
    "#Here we scale the entire data using MinMax Scaler \n",
    "scaler = MinMaxScaler(feature_range=(0, 1))\n",
    "data = train.copy()\n",
    "data.extend(valid)\n",
    "data=np.reshape(data,(-1,1))\n",
    "scaled_data = scaler.fit_transform(data)"
   ]
  },
  {
   "cell_type": "markdown",
   "metadata": {},
   "source": [
    "Next, we construct the features and target label for our model. Here we use 60 values from the training values as the features\n",
    "and the very next value as our target label. Basically, we will train our model to predict today's closing price using data from past 60 days."
   ]
  },
  {
   "cell_type": "code",
   "execution_count": 7,
   "metadata": {},
   "outputs": [],
   "source": [
    "x_train, y_train = [], []\n",
    "for i in range(60,len(train)):\n",
    "    x_train.append(scaled_data[i-60:i,0])\n",
    "    y_train.append(scaled_data[i,0])\n",
    "#vectorize training samples\n",
    "x_train, y_train = np.array(x_train), np.array(y_train)\n",
    "x_train = np.reshape(x_train, (x_train.shape[0],x_train.shape[1],1))"
   ]
  },
  {
   "cell_type": "markdown",
   "metadata": {},
   "source": [
    "Now we build and train our LSTM model using keras with two LSTM layers followed by a final dense layer. We also use dropout for regularization to prevent overfitting."
   ]
  },
  {
   "cell_type": "code",
   "execution_count": 8,
   "metadata": {
    "colab": {
     "base_uri": "https://localhost:8080/",
     "height": 290
    },
    "colab_type": "code",
    "id": "hzImbmv_d7MI",
    "outputId": "d783801b-f6f9-40f5-b2e1-7c36b12b17b6"
   },
   "outputs": [
    {
     "name": "stdout",
     "output_type": "stream",
     "text": [
      "Epoch 1/5\n",
      " - 8s - loss: 0.0012\n",
      "Epoch 2/5\n",
      " - 8s - loss: 2.7775e-04\n",
      "Epoch 3/5\n",
      " - 8s - loss: 2.1417e-04\n",
      "Epoch 4/5\n",
      " - 9s - loss: 1.8520e-04\n",
      "Epoch 5/5\n",
      " - 8s - loss: 1.6955e-04\n"
     ]
    },
    {
     "data": {
      "text/plain": [
       "<keras.callbacks.History at 0x1ad1b2e4d68>"
      ]
     },
     "execution_count": 8,
     "metadata": {},
     "output_type": "execute_result"
    }
   ],
   "source": [
    "#LSTM model\n",
    "model = Sequential()\n",
    "model.add(LSTM(units=50, return_sequences=True, input_shape=(x_train.shape[1],1)))\n",
    "model.add(Dropout(0.2))\n",
    "model.add(LSTM(units=50))\n",
    "model.add(Dense(1))\n",
    "#Compile it and fit it on our training data\n",
    "model.compile(loss='mean_squared_error', optimizer='adam')\n",
    "model.fit(x_train, y_train, epochs=5, batch_size=5, verbose=2)"
   ]
  },
  {
   "cell_type": "code",
   "execution_count": 9,
   "metadata": {
    "colab": {},
    "colab_type": "code",
    "id": "8zmP6WQ-QKcf"
   },
   "outputs": [],
   "source": [
    "#For generalization performance measure, we predict the validation set using past 60 values from the training data\n",
    "inputs = data[len(data) - len(valid) - 60:]\n",
    "inputs = np.array(inputs)\n",
    "inputs  = scaler.transform(inputs)\n",
    "\n",
    "X_test = []\n",
    "for i in range(60,inputs.shape[0]):\n",
    "    X_test.append(inputs[i-60:i,0])\n",
    "X_test = np.array(X_test)\n",
    "X_test = np.reshape(X_test, (X_test.shape[0],X_test.shape[1],1))\n",
    "\n",
    "pred = model.predict(X_test)\n",
    "pred = scaler.inverse_transform(pred)"
   ]
  },
  {
   "cell_type": "markdown",
   "metadata": {
    "colab_type": "text",
    "id": "wMxYFm0z1yOe"
   },
   "source": [
    "We use RMSE to check performance on validation set"
   ]
  },
  {
   "cell_type": "code",
   "execution_count": 10,
   "metadata": {
    "colab": {
     "base_uri": "https://localhost:8080/",
     "height": 34
    },
    "colab_type": "code",
    "id": "Li4pXWumScY7",
    "outputId": "42cdc714-3937-4870-bdfa-e1bb8cdd02c4"
   },
   "outputs": [
    {
     "data": {
      "text/plain": [
       "361.4640261945741"
      ]
     },
     "execution_count": 10,
     "metadata": {},
     "output_type": "execute_result"
    }
   ],
   "source": [
    "rms=np.sqrt(np.mean(np.power((valid-pred),2)))\n",
    "rms"
   ]
  },
  {
   "cell_type": "markdown",
   "metadata": {
    "colab_type": "text",
    "id": "WAiqTODa1yOh"
   },
   "source": [
    "Finally let's see the predictions from the model against the actual values."
   ]
  },
  {
   "cell_type": "code",
   "execution_count": 11,
   "metadata": {
    "colab": {
     "base_uri": "https://localhost:8080/",
     "height": 269
    },
    "colab_type": "code",
    "id": "R2EukvkmQKck",
    "outputId": "5d72248e-9cc0-450b-9924-f6e3290dbed8"
   },
   "outputs": [
    {
     "data": {
      "image/png": "[encoded data removed]",
      "text/plain": [
       "<Figure size 432x288 with 1 Axes>"
      ]
     },
     "metadata": {
      "needs_background": "light"
     },
     "output_type": "display_data"
    }
   ],
   "source": [
    "plt.plot(valid,'-b',label='Test')\n",
    "plt.plot(pred,'-r',label='Prediction')\n",
    "plt.xlabel('Time')\n",
    "plt.ylabel('Stock Price')\n",
    "plt.title('On testing data')\n",
    "plt.show()"
   ]
  },
  {
   "cell_type": "markdown",
   "metadata": {
    "colab_type": "text",
    "id": "PfZ69vA91yOj"
   },
   "source": [
    "Next we create functions to perform the above tasks on different tickers"
   ]
  },
  {
   "cell_type": "code",
   "execution_count": 12,
   "metadata": {
    "colab": {},
    "colab_type": "code",
    "id": "tmC5Y2RnfvzN"
   },
   "outputs": [],
   "source": [
    "#This function create a LSTM model for a given stock ticker \n",
    "def tt_split(df):\n",
    "    df = df.withColumn(\"id\",fn.monotonically_increasing_id())\n",
    "    i = df.select('id').collect()[0][0]\n",
    "    length = df.count()\n",
    "    itrain = int(0.8*length)\n",
    "    train = df.where(fn.col('id')<i+itrain)\n",
    "    valid = df.where(fn.col('id')>=i+itrain)\n",
    "    train = train.select('close').collect()\n",
    "    train = [float(row.close) for row in train]\n",
    "    valid = valid.select('close').collect()\n",
    "    valid = [float(row.close) for row in valid]\n",
    "    #converting dataset into x_train and y_train\n",
    "    data = train.copy()\n",
    "    data.extend(valid)\n",
    "    data=np.reshape(data,(-1,1))\n",
    "    scaler = MinMaxScaler(feature_range=(0, 1))\n",
    "    scaled_data = scaler.fit_transform(data)\n",
    "    x_train, y_train = [], []\n",
    "    for i in range(60,len(train)):\n",
    "        x_train.append(scaled_data[i-60:i,0])\n",
    "        y_train.append(scaled_data[i,0])\n",
    "    x_train, y_train = np.array(x_train), np.array(y_train)\n",
    "    x_train = np.reshape(x_train, (x_train.shape[0],x_train.shape[1],1))\n",
    "    #Validation set\n",
    "    inputs = np.array(data[len(data) - len(valid) - 60:])\n",
    "    inputs  = scaler.transform(inputs)\n",
    "    x_test = []\n",
    "    for i in range(60,inputs.shape[0]):\n",
    "        x_test.append(inputs[i-60:i,0])\n",
    "    x_test = np.array(x_test)\n",
    "    x_test = np.reshape(x_test, (x_test.shape[0],x_test.shape[1],1))\n",
    "    y_test = valid\n",
    "    return x_train, y_train, x_test, y_test, scaler\n",
    "\n",
    "def train_model(x_train, y_train, epochs, batch_size):\n",
    "    #creating lstm model\n",
    "    model = Sequential()\n",
    "    model.add(LSTM(units=50, return_sequences=True, input_shape=(x_train.shape[1],1)))\n",
    "    model.add(Dropout(0.2))\n",
    "    model.add(LSTM(units=50))\n",
    "    model.add(Dense(1))\n",
    "    model.compile(loss='mean_squared_error', optimizer='adam')\n",
    "    model.fit(x_train, y_train, epochs=epochs, batch_size=batch_size, verbose=0)\n",
    "    return model\n",
    "\n",
    "def predict(x_test, y_test, model, model_name, scaler):\n",
    "    pred = model.predict(x_test)\n",
    "    pred = scaler.inverse_transform(pred)\n",
    "    rms=np.sqrt(np.mean(np.power((y_test-pred),2)))\n",
    "    results.append({\"ticker\":model_name,\"rmse\":rms})\n",
    "\n",
    "\n",
    "def save_model(model, model_name):\n",
    "    filename= model_name+\".h5\"\n",
    "    model.save('models/'+filename)"
   ]
  },
  {
   "cell_type": "code",
   "execution_count": 13,
   "metadata": {
    "colab": {},
    "colab_type": "code",
    "id": "TSEBT6EaQZOQ"
   },
   "outputs": [
    {
     "name": "stdout",
     "output_type": "stream",
     "text": [
      "1 AMZN  model training...\n",
      "2 AAPL  model training...\n",
      "3 EXPE  model training...\n",
      "4 CVS  model training...\n",
      "5 BAC  model training...\n",
      "6 GOOGL  model training...\n"
     ]
    }
   ],
   "source": [
    "#We test our functions on different stocks\n",
    "results = []\n",
    "for val,x in enumerate(['AMZN','AAPL','EXPE','CVS','BAC','GOOGL']): \n",
    "    df = stock_df.where(fn.col('ticker')==x)\n",
    "    df = df.select('close','date')\n",
    "    x_train, y_train, x_test, y_test, s = tt_split(df)\n",
    "    print(val+1,x,' model training...')\n",
    "    model = train_model(x_train,y_train,epochs=5,batch_size=5)\n",
    "    save_model(model,x)\n",
    "    predict(x_test, y_test, model, x, s)"
   ]
  },
  {
   "cell_type": "code",
   "execution_count": 14,
   "metadata": {},
   "outputs": [
    {
     "data": {
      "text/plain": [
       "[{'ticker': 'AMZN', 'rmse': 362.71349950833155},\n",
       " {'ticker': 'AAPL', 'rmse': 27.38590835585094},\n",
       " {'ticker': 'EXPE', 'rmse': 12.886522513850464},\n",
       " {'ticker': 'CVS', 'rmse': 7.330504426607596},\n",
       " {'ticker': 'BAC', 'rmse': 2.6999737465768083},\n",
       " {'ticker': 'GOOGL', 'rmse': 104.82556756371828}]"
      ]
     },
     "execution_count": 14,
     "metadata": {},
     "output_type": "execute_result"
    }
   ],
   "source": [
    "results"
   ]
  },
  {
   "cell_type": "markdown",
   "metadata": {
    "colab_type": "text",
    "id": "7Tek_5j21yOs"
   },
   "source": [
    "Recommend Stocks: This function defined below takes in input as month, day and year for which you want the stocks to be predicted and a list of stocks from which you want a recommendation. Inside this function, the models are picked up from the folder and historical stock data is used. The models predict stock price on that particular date using last 60 day's stock price values. Finally, it calculates the return values and ranks the stocks based on the return for this day."
   ]
  },
  {
   "cell_type": "code",
   "execution_count": 15,
   "metadata": {
    "colab": {},
    "colab_type": "code",
    "id": "qqYWvEgKsZOW"
   },
   "outputs": [],
   "source": [
    "def recommend(month,day,year,stocks,stock_df):\n",
    "  results=[]\n",
    "  filenames=[x+\".h5\" for x in stocks] \n",
    "  for stockmodel in filenames:\n",
    "    df = stock_df.where(fn.col('ticker')==stockmodel[:-3])\n",
    "    df = df.select('close','date','open')\n",
    "    df = df.withColumn(\"id\",fn.monotonically_increasing_id()) #to get row number\n",
    "    \n",
    "    #fitting our scaler on the entire closing price data\n",
    "    data=df.select('close').collect()\n",
    "    data=np.reshape(data,(-1,1))\n",
    "    scaler = MinMaxScaler(feature_range=(0, 1))\n",
    "    scaler.fit(data)\n",
    "    \n",
    "    #getting data of previous 60 values for given date\n",
    "    dt=day+\"-\"+month+\"-\"+year\n",
    "    idx=df.where(fn.col('date')==dt).select('id').collect()[0][0] #row number for given date\n",
    "    test=df.where((fn.col('id')<idx) & (fn.col('id')>=idx-60)) #past 60 days\n",
    "    inputs=test.select('close').collect()\n",
    "\n",
    "    #transform for prediction\n",
    "    inputs = np.reshape(inputs,(-1,1))\n",
    "    inputs  = scaler.transform(inputs)\n",
    "    x_test = np.array([inputs])\n",
    "    x_test = np.reshape(x_test, (x_test.shape[0],x_test.shape[1],1))\n",
    "\n",
    "    #predicting that day's stock price and calculating return\n",
    "    model=load_model(\"models/\"+stockmodel) #Loading the model\n",
    "    closing_price = model.predict(x_test)\n",
    "    closing_price = scaler.inverse_transform(closing_price)[0][0] #given date's prediction\n",
    "    opening_price = df.where(fn.col('date')==dt).select('open').collect()[0][0] #given date's opening price\n",
    "    return_value=(closing_price-opening_price)/opening_price\n",
    "    \n",
    "    #collecting all the return values\n",
    "    results.append({\"ticker\":stockmodel[:-3],\"return\":return_value})\n",
    "  \n",
    "  #ranking stocks based on return values\n",
    "  results=sorted(results, key = lambda i: i['return'],reverse=True)\n",
    "  return results"
   ]
  },
  {
   "cell_type": "code",
   "execution_count": 16,
   "metadata": {
    "colab": {
     "base_uri": "https://localhost:8080/",
     "height": 221
    },
    "colab_type": "code",
    "id": "g3oP-Lna4bul",
    "outputId": "a6a2e8bd-faa7-451e-b501-58c5e877aa83"
   },
   "outputs": [
    {
     "data": {
      "text/plain": [
       "[{'ticker': 'GOOGL', 'return': 0.015333667295680012},\n",
       " {'ticker': 'AMZN', 'return': -0.008510460592073586},\n",
       " {'ticker': 'CVS', 'return': -0.012508510217089068},\n",
       " {'ticker': 'BAC', 'return': -0.014818880416032219},\n",
       " {'ticker': 'AAPL', 'return': -0.017391789590350978},\n",
       " {'ticker': 'EXPE', 'return': -0.02074600760228635}]"
      ]
     },
     "execution_count": 16,
     "metadata": {},
     "output_type": "execute_result"
    }
   ],
   "source": [
    "#Let's look at our results\n",
    "recommend('10','04','2017',['AMZN','AAPL', 'EXPE', 'CVS', 'BAC', 'GOOGL'],stock_df)"
   ]
  },
  {
   "cell_type": "markdown",
   "metadata": {
    "colab": {},
    "colab_type": "code",
    "id": "c_OSH12A4VZ4"
   },
   "source": [
    "Thus, we see for this particular day Google is the recommended stock based on the return value from our list of stocks. \n",
    "We can extend this approach to recommend stocks based their future trends rather than a single day's return. However, this helps us get an intuition for a single day."
   ]
  }
 ],
 "metadata": {
  "colab": {
   "collapsed_sections": [],
   "name": "LSTMSparkImplementationFinal.ipynb",
   "provenance": [],
   "version": "0.3.2"
  },
  "kernelspec": {
   "display_name": "Python 3",
   "language": "python",
   "name": "python3"
  },
  "language_info": {
   "codemirror_mode": {
    "name": "ipython",
    "version": 3
   },
   "file_extension": ".py",
   "mimetype": "text/x-python",
   "name": "python",
   "nbconvert_exporter": "python",
   "pygments_lexer": "ipython3",
   "version": "3.6.5"
  }
 },
 "nbformat": 4,
 "nbformat_minor": 1
}
